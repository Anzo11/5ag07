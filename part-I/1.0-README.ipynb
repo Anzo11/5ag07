{
 "cells": [
  {
   "cell_type": "markdown",
   "metadata": {},
   "source": [
    "## References\n",
    "\n"
   ]
  },
  {
   "cell_type": "markdown",
   "metadata": {},
   "source": [
    "I - Finite Element Methods for Linear Problems\n",
    "  - Cours 1 (25/09/2017)\n",
    "    - Verification and validation\n",
    "    - Variational formulations and Galerkin approximations\n",
    "    - The basic steps and concepts of a finite element program\n",
    "    - Introduction to *FEniCS*\n",
    "    - Introduction to *python*\n",
    "    - Lagrange finite element in 1D: Basis function assembling, boundary conditions\n",
    "    - Linear Elasticity: variational formulation, dimensional analysis and finite element solver\n",
    "    - Approximate representation of functions in a FE space: interpolation and projection \n",
    "    - Measuring a function: norms\n",
    "    - Errors and convergence analysis\n",
    "    - Linear solvers: overview on direct and iterative solvers\n",
    "    - Locking\n",
    "    - Mixed formulation for almost incompressible linear elasticity\n",
    "    - Course material:\n",
    "    \n",
    "        - References:\n",
    "            - [1] B. Szabo, I. Babushka, Finite Element Analysis (Wiley, New York, 1991). You can download it from the author website: https://classes.engineering.wustl.edu/2009/fall/mase5510/Chapters_12.pdf, Read and study in particular: Chapter 1, Chapter 2.6 (and look to chapter 2 in general as a reference)\n",
    "            - [2] [FEniCS Tutorial](https://fenicsproject.org/tutorial/)\n",
    "            - [3] A collection of classical paper on FEM: http://www.ewp.rpi.edu/hartford/~ernesto/Su2014/Korea-PW/StressAnalysis/Readings/Other/ClassicPapers-FEM/\n",
    "        - Slides\n",
    "        - Notebooks\n",
    "\n",
    "\n",
    "\n",
    "        "
   ]
  },
  {
   "cell_type": "code",
   "execution_count": null,
   "metadata": {
    "collapsed": true
   },
   "outputs": [],
   "source": []
  }
 ],
 "metadata": {
  "kernelspec": {
   "display_name": "Python 3",
   "language": "python",
   "name": "python3"
  },
  "language_info": {
   "codemirror_mode": {
    "name": "ipython",
    "version": 3
   },
   "file_extension": ".py",
   "mimetype": "text/x-python",
   "name": "python",
   "nbconvert_exporter": "python",
   "pygments_lexer": "ipython3",
   "version": "3.7.0"
  }
 },
 "nbformat": 4,
 "nbformat_minor": 2
}
