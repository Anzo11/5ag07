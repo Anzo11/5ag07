{
 "cells": [
  {
   "cell_type": "markdown",
   "metadata": {},
   "source": [
    "# III. Almost incompressible elasticity"
   ]
  },
  {
   "cell_type": "markdown",
   "metadata": {},
   "source": [
    "* An incompressible materials are caracterized by a Poission ratio $\\nu=0.5$. \n",
    "\n",
    "* The numerical solution of the equation of linear elasticity for almost incompressible materials (e.g. $\\nu=0.4999999$) presents particular difficulties. When using a finite element discretisation there is a numerical **locking** problem *(verrouillage numérique)* that strongly affects the convergence rate. \n",
    "\n",
    "* In the *TP* sessions we try to put into evidence this problem and propose a solution based on a mixed variational formulation, introducing a splitting of the stress tensor into deviatoric and volumetric parts and the use of appropiate discretisations.\n",
    "\n",
    "* We introduce below a possible miwed formulation for linear elasticity that helps curing the locking phomenenon"
   ]
  },
  {
   "cell_type": "markdown",
   "metadata": {},
   "source": [
    "## Numerical experiences\n",
    "\n",
    "Repeat the numerical convergence analysis for the plate with a hole for $\\nu=0.48$ et $\\nu=0.4999$. Plot the fields representing the deviatoric and the isotropic part of the  stress  tensor for the two values of the Poisson ratio. \n",
    "Plot the error norm of the solution as a function of the mesh size in logarithmic scale. Comment the results. What can be deduced on the convergence rate for almost incompressible materials? Is this result compatible with the mathematical result on the convergence rate of finite element approximation (see the footnote in the previous TP sheet). Try to explain the main issue for the incompressible case, when considering a single triangular finite element with linear interpolation functions."
   ]
  },
  {
   "cell_type": "markdown",
   "metadata": {},
   "source": [
    "## Mixed variational formulation $(u,p)$\n",
    "\n",
    "\n",
    "1. Show that the elastic energy density of a linear elastic material can be decomposed into a volumetric and deviatoric part, as follows:\n",
    "$$\n",
    "W(u) = \\dfrac{1}{2}k \\,\\mathrm{div} u^2 +\\mu \\epsilon_d(u)\\cdot  \\epsilon_d(u)\n",
    "$$\n",
    "where $\\epsilon_d(u)=\\epsilon(u)-\\epsilon_I(u)$ is the deviatoric part of the strain tensor and $\\epsilon_I(u)=\\frac{\\mathrm{div}{u}}{3} I$ its isotropic part. Give the expression of the bulk modulus $k$ as a function of $(E,\\nu)$ or $(\\lambda,\\mu)$ in 2D and 3D. \n",
    "\n",
    "2. Show that the $W$  can be rewritten in the following form (that is a Legendre tranformation, see *e.g.* https://en.wikipedia.org/wiki/Legendre_transformation)\n",
    "\\begin{equation}\n",
    "W(u)=\\max_p W(u,p), \\qquad W(u,p)  = p\\,\\mathrm{div} u-\\dfrac{p^2}{2\\,k} +\\mu \\epsilon_d(u)\\cdot  \\epsilon_d(u)\n",
    "\\end{equation}\n",
    "\n",
    "3. Starting from the principle of minimum of potential energy, show that the linear elasticity can be formulated through the following *mixed variational principle*:\n",
    "$$\n",
    "\\min_{u\\in \\mathcal{V}}\\, \\max_{p\\in \\mathcal{P}} \\int_\\Omega W(u,p)\\,dx -\\ell(u)\n",
    "$$\n",
    "$\\ell(u)$ being the linear functional representing the work of external forces. Here $\\mathcal{V}=H^1(\\Omega)\\times H^1(\\Omega)$ (+ boundary conditions on $u$) and $\\mathcal{P}= L^2(\\Omega)$ are the spaces of admissible displacement and pressure fields, respectively.\n",
    "Remark that in the perfectly incompressible case ($k\\to\\infty$) the mixed formulation above coincides with the principle of the minimum of potential energy, where the incompressibility constraint  $\\mathrm{div} u =0$ is imposed through the Lagrange multiplier method ($p$ being the multiplier). \n",
    "\n",
    "4. Show that the stationarity conditions of the mixed formulation above are in the following form:\n",
    "\\begin{eqnarray}\n",
    "a(u,v)+b(v,p)&=&l(v)\\qquad \\forall v\\in V_0\\\\\n",
    "b(u,q)+ c(p,q)&=&0,\\qquad \\forall q\\in P\n",
    "\\end{eqnarray}\n",
    "Give the explicit expressions of the bilinear forms $a$, $b$, $c$. Note that the second equation is a weak form of the volumetric part of the constitutive relation.\n",
    "\n",
    "5.  Write a numerical code to solve the mixed problem above for the case of the plate with a hole. You can find details on how to implement mixed formulation here: https://fenicsproject.org/documentation/dolfin/2016.1.0/python/demo/documented/stokes-taylor-hood/python/documentation.html\n",
    "\n",
    "6. Compare the results obtained with the following discretisations for the displacement and pressure subspaces:\n",
    " * CG1-CG1 (P1 for displacement and pression)\n",
    " * CG2-CG1 (P2 for displacement and P1 for pressure)\n",
    " * CG1-DG0 (P1 for displacement and piexecewie constant for the pressure)\n",
    " \n",
    "For the different cases above show:\n",
    " * The convergence diagram for the error norm.\n",
    " * The pressure field on a relatively coarse mesh."
   ]
  },
  {
   "cell_type": "markdown",
   "metadata": {},
   "source": [
    "# Optional: Cook's membrane\n",
    "Perform the convergence analysis on the following problem: the Cook's membrane. In this classical test case, we set $E = 250, ν = 0.4999, V = 100.$\n",
    "<img src=\"files/cook.png\" alt=\"Drawing\" style=\"width: 300px;\"/>"
   ]
  },
  {
   "cell_type": "markdown",
   "metadata": {},
   "source": [
    "# References\n",
    "[1] H.P.Langtangen, A.Logg, Solving PDEs in Minutes - The FEniCS Tutorial Volume I (preprint) 2016 https://github.com/alogg/fenics-tutorial/raw/master/pub/pdf/fenics-tutorial1-4print.pdf\n",
    "\n",
    "[2] B.Szabó, I.Babuška, Introduction to Finite Element Analysis: Formulation, Verification and Validation, Wiley 2011, ISBN: 978-0-470-97728-6"
   ]
  }
 ],
 "metadata": {
  "kernelspec": {
   "display_name": "Python 3",
   "language": "python",
   "name": "python3"
  },
  "language_info": {
   "codemirror_mode": {
    "name": "ipython",
    "version": 3
   },
   "file_extension": ".py",
   "mimetype": "text/x-python",
   "name": "python",
   "nbconvert_exporter": "python",
   "pygments_lexer": "ipython3",
   "version": "3.7.0"
  }
 },
 "nbformat": 4,
 "nbformat_minor": 2
}
