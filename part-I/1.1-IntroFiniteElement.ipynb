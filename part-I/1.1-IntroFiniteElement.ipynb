{
 "cells": [
  {
   "cell_type": "markdown",
   "metadata": {},
   "source": [
    "# Introduction to the Finite Element Method"
   ]
  },
  {
   "cell_type": "markdown",
   "metadata": {},
   "source": [
    "In this notebook we give an introduction to the finite element method and their computer programming, taking advantage of the FEniCS library. \n",
    "With this notebook you can acquire the following competences:\n",
    "* The basics of the FEM\n",
    "* Ideas of abstractions of the data structures and methods needed to in finite element method\n",
    "* An introduction to FEniCS, that will be used in the rest of the course\n",
    "* Write an elemental solver for the 1d traction problem of a linear elastic bar"
   ]
  },
  {
   "cell_type": "code",
   "execution_count": 1,
   "metadata": {},
   "outputs": [],
   "source": [
    "%matplotlib inline\n",
    "import fenics as fe\n",
    "import numpy as np\n",
    "import matplotlib.pyplot as plt"
   ]
  },
  {
   "cell_type": "markdown",
   "metadata": {},
   "source": [
    "## Mesh"
   ]
  },
  {
   "cell_type": "markdown",
   "metadata": {},
   "source": [
    "Let us a create a 1d mesh, of length 1, with uniform element size"
   ]
  },
  {
   "cell_type": "code",
   "execution_count": 2,
   "metadata": {},
   "outputs": [
    {
     "data": {
      "text/plain": [
       "[<matplotlib.lines.Line2D at 0x11a07c278>]"
      ]
     },
     "execution_count": 2,
     "metadata": {},
     "output_type": "execute_result"
    },
    {
     "data": {
      "image/png": "[encoded data removed]",
      "text/plain": [
       "<Figure size 432x288 with 1 Axes>"
      ]
     },
     "metadata": {},
     "output_type": "display_data"
    }
   ],
   "source": [
    "mesh = fe.UnitIntervalMesh(10)\n",
    "fe.plot(mesh)"
   ]
  },
  {
   "cell_type": "markdown",
   "metadata": {},
   "source": [
    "The basic model for the mesh is a collection of two arrays, one with the coordinates of the nodes and one with the node number in each cell. This is what can easily get in FEniCS.\n",
    "In FEniCS a mesh is class with a set of attributes and methods. "
   ]
  },
  {
   "cell_type": "code",
   "execution_count": 3,
   "metadata": {},
   "outputs": [
    {
     "name": "stdout",
     "output_type": "stream",
     "text": [
      "nodes =  [[0. ]\n",
      " [0.1]\n",
      " [0.2]\n",
      " [0.3]\n",
      " [0.4]\n",
      " [0.5]\n",
      " [0.6]\n",
      " [0.7]\n",
      " [0.8]\n",
      " [0.9]\n",
      " [1. ]]\n",
      "elements =  [[ 0  1]\n",
      " [ 1  2]\n",
      " [ 2  3]\n",
      " [ 3  4]\n",
      " [ 4  5]\n",
      " [ 5  6]\n",
      " [ 6  7]\n",
      " [ 7  8]\n",
      " [ 8  9]\n",
      " [ 9 10]]\n"
     ]
    }
   ],
   "source": [
    "print(\"nodes = \", mesh.coordinates())\n",
    "print(\"elements = \", mesh.cells())"
   ]
  },
  {
   "cell_type": "markdown",
   "metadata": {},
   "source": [
    "## Finite Element Discrete Function Space"
   ]
  },
  {
   "cell_type": "markdown",
   "metadata": {},
   "source": [
    "The basic ideas of FE is to approximate the solutions of ODE and PDE by using a Ritz-Galerking approximation.\n",
    "Solutions are approximated by a linear combination of $n$ basis functions $\\varphi_i$\n",
    "$$ u(x) = \\sum_{i=1}^n \\varphi_i(x) U_i$$\n",
    "i.e. in the discrete function space\n",
    "$$\n",
    "V = \\mathrm{span}\\{\\varphi_1,\\ldots,\\varphi_n\\} \n",
    "$$\n",
    "The finite element method is a system method to define the basis function in a way which is indipendent of the shape of the domain. The basic idea is to have this function defined \"elementwise\". \n",
    "\n",
    "We can create in FEniCS a finite element function space with the following command. "
   ]
  },
  {
   "cell_type": "code",
   "execution_count": 4,
   "metadata": {},
   "outputs": [],
   "source": [
    "V = fe.FunctionSpace(mesh,\"P\",1)"
   ]
  },
  {
   "cell_type": "markdown",
   "metadata": {},
   "source": [
    "We should specify the mesh,  the type of interpolation functions (`P` is for Lagrange polynomials), and the order (`1` stays for linear polynomials). \n",
    "The function space is an important object (a python class here), that collect the basis function and also the information on the mapping between globel degree of freedom and cell number (`dofmap`). This gives for examples the `dof` of the cell `2`. "
   ]
  },
  {
   "cell_type": "code",
   "execution_count": 5,
   "metadata": {},
   "outputs": [
    {
     "data": {
      "text/plain": [
       "array([8, 7], dtype=int32)"
      ]
     },
     "execution_count": 5,
     "metadata": {},
     "output_type": "execute_result"
    }
   ],
   "source": [
    "dofmap = V.dofmap()\n",
    "dofmap.cell_dofs(2)"
   ]
  },
  {
   "cell_type": "markdown",
   "metadata": {},
   "source": [
    "## Functions \n",
    "In a finite element element function space a function is caracterized by the a n-dimensional vector collecting the coefficients $U_i$. We can define a function as follows in FEniCS (and give it a name)"
   ]
  },
  {
   "cell_type": "code",
   "execution_count": 6,
   "metadata": {},
   "outputs": [],
   "source": [
    "u = fe.Function(V)\n",
    "u.rename(\"u\",\"displacement\")"
   ]
  },
  {
   "cell_type": "markdown",
   "metadata": {},
   "source": [
    "We can access the vector of the $U_i$ as follows and convert it to a numpy array. Note that it is always initialized to 0."
   ]
  },
  {
   "cell_type": "code",
   "execution_count": 7,
   "metadata": {},
   "outputs": [
    {
     "name": "stdout",
     "output_type": "stream",
     "text": [
      "[0. 0. 0. 0. 0. 0. 0. 0. 0. 0. 0.]\n"
     ]
    }
   ],
   "source": [
    "u_vec = u.vector()\n",
    "print(u_vec.get_local())"
   ]
  },
  {
   "cell_type": "markdown",
   "metadata": {},
   "source": [
    "For `P1`spaces, we can easily set the value of the `U_i`'s to approximate an analytical expression `f` by interpolation, i.e. setting $U_i=f(x_i)$. "
   ]
  },
  {
   "cell_type": "code",
   "execution_count": 8,
   "metadata": {},
   "outputs": [
    {
     "data": {
      "text/plain": [
       "array([0.84147098, 0.78332691, 0.71735609, 0.64421769, 0.56464247,\n",
       "       0.47942554, 0.38941834, 0.29552021, 0.19866933, 0.09983342,\n",
       "       0.        ])"
      ]
     },
     "execution_count": 8,
     "metadata": {},
     "output_type": "execute_result"
    }
   ],
   "source": [
    "f = fe.Expression('sin(x[0])', degree = 2)\n",
    "u.interpolate(f)\n",
    "u_vec.get_local()"
   ]
  },
  {
   "cell_type": "markdown",
   "metadata": {},
   "source": [
    "We can plot a function by using a built-in plot function in FEniCS:"
   ]
  },
  {
   "cell_type": "code",
   "execution_count": 9,
   "metadata": {},
   "outputs": [
    {
     "data": {
      "text/plain": [
       "[<matplotlib.lines.Line2D at 0x11c241240>]"
      ]
     },
     "execution_count": 9,
     "metadata": {},
     "output_type": "execute_result"
    },
    {
     "data": {
      "image/png": "[encoded data removed]",
      "text/plain": [
       "<Figure size 432x288 with 1 Axes>"
      ]
     },
     "metadata": {},
     "output_type": "display_data"
    }
   ],
   "source": [
    "fe.plot(u)"
   ]
  },
  {
   "cell_type": "markdown",
   "metadata": {},
   "source": [
    "or by using matplotlib:"
   ]
  },
  {
   "cell_type": "code",
   "execution_count": 10,
   "metadata": {},
   "outputs": [
    {
     "data": {
      "text/plain": [
       "array([0. , 0.1, 0.2, 0.3, 0.4, 0.5, 0.6, 0.7, 0.8, 0.9, 1. ])"
      ]
     },
     "execution_count": 10,
     "metadata": {},
     "output_type": "execute_result"
    }
   ],
   "source": [
    "mesh.coordinates()[:,0]"
   ]
  },
  {
   "cell_type": "code",
   "execution_count": 11,
   "metadata": {},
   "outputs": [
    {
     "data": {
      "text/plain": [
       "array([[1. ],\n",
       "       [0.9],\n",
       "       [0.8],\n",
       "       [0.7],\n",
       "       [0.6],\n",
       "       [0.5],\n",
       "       [0.4],\n",
       "       [0.3],\n",
       "       [0.2],\n",
       "       [0.1],\n",
       "       [0. ]])"
      ]
     },
     "execution_count": 11,
     "metadata": {},
     "output_type": "execute_result"
    }
   ],
   "source": [
    "V.tabulate_dof_coordinates()"
   ]
  },
  {
   "cell_type": "code",
   "execution_count": 12,
   "metadata": {},
   "outputs": [
    {
     "data": {
      "text/plain": [
       "Text(0,0.5,'u')"
      ]
     },
     "execution_count": 12,
     "metadata": {},
     "output_type": "execute_result"
    },
    {
     "data": {
      "image/png": "[encoded data removed]",
      "text/plain": [
       "<Figure size 432x288 with 1 Axes>"
      ]
     },
     "metadata": {},
     "output_type": "display_data"
    }
   ],
   "source": [
    "import matplotlib.pyplot as plt \n",
    "plt.plot(mesh.coordinates()[:,0], u.compute_vertex_values(),\"r.\")\n",
    "plt.xlabel(\"x\")\n",
    "plt.ylabel(\"u\")"
   ]
  },
  {
   "cell_type": "markdown",
   "metadata": {},
   "source": [
    "You can write the function to a file either in speficif format, that can be read by `paraview`"
   ]
  },
  {
   "cell_type": "code",
   "execution_count": 13,
   "metadata": {},
   "outputs": [],
   "source": [
    "myfile = fe.XDMFFile(\"output.xdmf\")\n",
    "myfile.write(u)"
   ]
  },
  {
   "cell_type": "markdown",
   "metadata": {},
   "source": [
    "Or as a text (only for small things ...)"
   ]
  },
  {
   "cell_type": "code",
   "execution_count": 14,
   "metadata": {},
   "outputs": [],
   "source": [
    "np.savetxt('output.txt',  u_vec.get_local(), fmt='%.2e')"
   ]
  },
  {
   "cell_type": "markdown",
   "metadata": {},
   "source": [
    "## Variational formulation \n",
    "Let us consider the problem of the traction of a bar of length $L$, axial stiffness $ES(x)$, blocked in $x=0$ and subjected to an end force $P$ and a distributed load $f(x)$. The variational formulation of the problem is:\n",
    "\n",
    "Find a *trial function* $u\\in V$ such that for each *test function* in $v\\in V$: \n",
    "$$\n",
    "a(u,v) = l(v)\n",
    "$$\n",
    "where for our bar\n",
    "$$a(u,v)=\\int_0^L ES(x)\\, u'(x)\\,v'(x) \\mathrm{d}x, \\quad \\ell(v)=P\\,u(L)+\\int_0^L f(x)\\,v(x) \\mathrm{d}x$$\n",
    "From that one should \n",
    "\n",
    "1. Assemble the stiffness matrix $A$ and load vector $b$ defined by\n",
    "    $$\n",
    "    A_{ij}=a(\\varphi_i,\\varphi_j),\\qquad b_j=\\ell(\\varphi_j)\n",
    "    $$\n",
    "2. Impose the Dirichlet boundary condition at the discrete level\n",
    "3. Solve the linear system \n",
    "    $$A U=b$$"
   ]
  },
  {
   "cell_type": "markdown",
   "metadata": {},
   "source": [
    "## Assembling"
   ]
  },
  {
   "cell_type": "markdown",
   "metadata": {},
   "source": [
    "The first step is often the most tedius and technical one when writing a FE code, even if conceptually is very simple.\n",
    "Indeed, it can be completely automasize. Many modern FE libraries implement automatic code generator that write the assembling routing given the bilinear form $a$ and the linear form $\\ell$. \n",
    "\n",
    "A component of FEniCS, `UFL` (Unified form language) provides a syntax to straightforwardly and efficiently write variational form link on paper, taking also advantage of symbolic calculus. Below how to write this variational problem in `UFL`"
   ]
  },
  {
   "cell_type": "code",
   "execution_count": 15,
   "metadata": {},
   "outputs": [],
   "source": [
    "u_ = fe.TrialFunction(V)\n",
    "v = fe.TestFunction(V)\n",
    "ES = fe.Expression('k', k=1., degree = 2)\n",
    "f = fe.Expression('sin(x[0])', degree = 2)\n",
    "P = fe.Constant(\"1\")\n",
    "a = (u_.dx(0)*v.dx(0))*fe.dx\n",
    "l = f*v*fe.dx+P*v*fe.ds"
   ]
  },
  {
   "cell_type": "markdown",
   "metadata": {},
   "source": [
    "Hence one can take advantage of automatic code generation to assemble the system with efficient `C++` code. When evaluating the lines below for the first time, FEniCS do the following \n",
    "1. automatically generate an highly optimized `C++` codes to assemble A and b;\n",
    "2. compile them on the flight (JIT, Just In Time compilation);\n",
    "3. Call in python the resulting executable and assemble the matrix. \n",
    "\n",
    "Steps 1-2 can require some time (of the order of seconds), but are executed only once. When repeating the assembling for the same form, the executable are reused. The time required to generate and compile the code are indipendent of the number of `dof`. It can appear long for very small system, like the present one (say 1 second), but are completely negligible when solving large problem where most of the timing is spent in solving the linear system. "
   ]
  },
  {
   "cell_type": "code",
   "execution_count": 16,
   "metadata": {},
   "outputs": [],
   "source": [
    "A = fe.assemble(a)\n",
    "b = fe.assemble(l)"
   ]
  },
  {
   "cell_type": "markdown",
   "metadata": {},
   "source": [
    "With this no more need to write tedius assembling routines! YOu can access the entries of the matrices as below (viewing them as `numpy` arrays)"
   ]
  },
  {
   "cell_type": "code",
   "execution_count": 17,
   "metadata": {},
   "outputs": [
    {
     "data": {
      "text/plain": [
       "array([[ 10., -10.,   0.,   0.,   0.,   0.,   0.,   0.,   0.,   0.,   0.],\n",
       "       [-10.,  20., -10.,   0.,   0.,   0.,   0.,   0.,   0.,   0.,   0.],\n",
       "       [  0., -10.,  20., -10.,   0.,   0.,   0.,   0.,   0.,   0.,   0.],\n",
       "       [  0.,   0., -10.,  20., -10.,   0.,   0.,   0.,   0.,   0.,   0.],\n",
       "       [  0.,   0.,   0., -10.,  20., -10.,   0.,   0.,   0.,   0.,   0.],\n",
       "       [  0.,   0.,   0.,   0., -10.,  20., -10.,   0.,   0.,   0.,   0.],\n",
       "       [  0.,   0.,   0.,   0.,   0., -10.,  20., -10.,   0.,   0.,   0.],\n",
       "       [  0.,   0.,   0.,   0.,   0.,   0., -10.,  20., -10.,   0.,   0.],\n",
       "       [  0.,   0.,   0.,   0.,   0.,   0.,   0., -10.,  20., -10.,   0.],\n",
       "       [  0.,   0.,   0.,   0.,   0.,   0.,   0.,   0., -10.,  20., -10.],\n",
       "       [  0.,   0.,   0.,   0.,   0.,   0.,   0.,   0.,   0., -10.,  10.]])"
      ]
     },
     "execution_count": 17,
     "metadata": {},
     "output_type": "execute_result"
    }
   ],
   "source": [
    "A.array()"
   ]
  },
  {
   "cell_type": "code",
   "execution_count": 18,
   "metadata": {},
   "outputs": [
    {
     "data": {
      "text/plain": [
       "array([1.04113837, 0.07826743, 0.07167584, 0.0643681 , 0.0564172 ,\n",
       "       0.04790261, 0.03890939, 0.0295274 , 0.01985038, 0.00997502,\n",
       "       1.00166597])"
      ]
     },
     "execution_count": 18,
     "metadata": {},
     "output_type": "execute_result"
    }
   ],
   "source": [
    "b.get_local()"
   ]
  },
  {
   "cell_type": "markdown",
   "metadata": {},
   "source": [
    "## Dirichlet Boundary Conditions\n",
    "\n",
    "The formulation above does not yet accout for the dirichlet boundary condition $u=0$ in $x=0$.\n",
    "The Dirichlet BCs are usually imposed in the finite element formulation at the discrete level, by suitably hacking the linear system to solve (deleting or modifying raws and/or columns of $A$ and $b$). \n",
    "\n",
    "In fenics this is done with the `DirichletBC`. This introduces an object instrumental to impose the value `0.` on the space `V` in the *subdomain* `x[0]==0`."
   ]
  },
  {
   "cell_type": "code",
   "execution_count": 19,
   "metadata": {},
   "outputs": [],
   "source": [
    "bc = fe.DirichletBC(V,0.,\"x[0]==0\")"
   ]
  },
  {
   "cell_type": "markdown",
   "metadata": {},
   "source": [
    "### Method 1 (`bc.apply`, A not sym)"
   ]
  },
  {
   "cell_type": "markdown",
   "metadata": {},
   "source": [
    "A first method to abbly the boundary condition is the following"
   ]
  },
  {
   "cell_type": "code",
   "execution_count": 20,
   "metadata": {},
   "outputs": [],
   "source": [
    "bc.apply(A)\n",
    "bc.apply(b)"
   ]
  },
  {
   "cell_type": "markdown",
   "metadata": {},
   "source": [
    "The stiffness matrix and load vector are modified to satisfy the desired conditions when solving the linear system (try to understad what is done as an exercice)"
   ]
  },
  {
   "cell_type": "code",
   "execution_count": 21,
   "metadata": {},
   "outputs": [
    {
     "data": {
      "text/plain": [
       "array([[ 10., -10.,   0.,   0.,   0.,   0.,   0.,   0.,   0.,   0.,   0.],\n",
       "       [-10.,  20., -10.,   0.,   0.,   0.,   0.,   0.,   0.,   0.,   0.],\n",
       "       [  0., -10.,  20., -10.,   0.,   0.,   0.,   0.,   0.,   0.,   0.],\n",
       "       [  0.,   0., -10.,  20., -10.,   0.,   0.,   0.,   0.,   0.,   0.],\n",
       "       [  0.,   0.,   0., -10.,  20., -10.,   0.,   0.,   0.,   0.,   0.],\n",
       "       [  0.,   0.,   0.,   0., -10.,  20., -10.,   0.,   0.,   0.,   0.],\n",
       "       [  0.,   0.,   0.,   0.,   0., -10.,  20., -10.,   0.,   0.,   0.],\n",
       "       [  0.,   0.,   0.,   0.,   0.,   0., -10.,  20., -10.,   0.,   0.],\n",
       "       [  0.,   0.,   0.,   0.,   0.,   0.,   0., -10.,  20., -10.,   0.],\n",
       "       [  0.,   0.,   0.,   0.,   0.,   0.,   0.,   0., -10.,  20., -10.],\n",
       "       [  0.,   0.,   0.,   0.,   0.,   0.,   0.,   0.,   0.,   0.,   1.]])"
      ]
     },
     "execution_count": 21,
     "metadata": {},
     "output_type": "execute_result"
    }
   ],
   "source": [
    "A.array()"
   ]
  },
  {
   "cell_type": "code",
   "execution_count": 22,
   "metadata": {},
   "outputs": [
    {
     "data": {
      "text/plain": [
       "array([1.04113837, 0.07826743, 0.07167584, 0.0643681 , 0.0564172 ,\n",
       "       0.04790261, 0.03890939, 0.0295274 , 0.01985038, 0.00997502,\n",
       "       0.        ])"
      ]
     },
     "execution_count": 22,
     "metadata": {},
     "output_type": "execute_result"
    }
   ],
   "source": [
    "b.get_local()"
   ]
  },
  {
   "cell_type": "markdown",
   "metadata": {},
   "source": [
    "### Method 2 (`assemble_system`, A sym)"
   ]
  },
  {
   "cell_type": "markdown",
   "metadata": {},
   "source": [
    "This is an alternative that preserves the symmetry of the A matrix. \n",
    "Guess what is the method!"
   ]
  },
  {
   "cell_type": "code",
   "execution_count": 23,
   "metadata": {},
   "outputs": [],
   "source": [
    "A,b = fe.assemble_system(a,l,bc)"
   ]
  },
  {
   "cell_type": "code",
   "execution_count": 24,
   "metadata": {},
   "outputs": [
    {
     "data": {
      "text/plain": [
       "array([[ 10., -10.,   0.,   0.,   0.,   0.,   0.,   0.,   0.,   0.,   0.],\n",
       "       [-10.,  20., -10.,   0.,   0.,   0.,   0.,   0.,   0.,   0.,   0.],\n",
       "       [  0., -10.,  20., -10.,   0.,   0.,   0.,   0.,   0.,   0.,   0.],\n",
       "       [  0.,   0., -10.,  20., -10.,   0.,   0.,   0.,   0.,   0.,   0.],\n",
       "       [  0.,   0.,   0., -10.,  20., -10.,   0.,   0.,   0.,   0.,   0.],\n",
       "       [  0.,   0.,   0.,   0., -10.,  20., -10.,   0.,   0.,   0.,   0.],\n",
       "       [  0.,   0.,   0.,   0.,   0., -10.,  20., -10.,   0.,   0.,   0.],\n",
       "       [  0.,   0.,   0.,   0.,   0.,   0., -10.,  20., -10.,   0.,   0.],\n",
       "       [  0.,   0.,   0.,   0.,   0.,   0.,   0., -10.,  20., -10.,   0.],\n",
       "       [  0.,   0.,   0.,   0.,   0.,   0.,   0.,   0., -10.,  20.,   0.],\n",
       "       [  0.,   0.,   0.,   0.,   0.,   0.,   0.,   0.,   0.,   0.,   1.]])"
      ]
     },
     "execution_count": 24,
     "metadata": {},
     "output_type": "execute_result"
    }
   ],
   "source": [
    "A.array()"
   ]
  },
  {
   "cell_type": "code",
   "execution_count": 25,
   "metadata": {},
   "outputs": [
    {
     "data": {
      "text/plain": [
       "array([1.04113837, 0.07826743, 0.07167584, 0.0643681 , 0.0564172 ,\n",
       "       0.04790261, 0.03890939, 0.0295274 , 0.01985038, 0.00997502,\n",
       "       0.        ])"
      ]
     },
     "execution_count": 25,
     "metadata": {},
     "output_type": "execute_result"
    }
   ],
   "source": [
    "b.get_local()"
   ]
  },
  {
   "cell_type": "markdown",
   "metadata": {},
   "source": [
    "## Solve the linear system"
   ]
  },
  {
   "cell_type": "markdown",
   "metadata": {},
   "source": [
    "The solution of the linear system is often the most time-consuming part of the running time of a finite element solver. In finite element one never computes explicity the inverse of the matrix `A` but uses appropiate *direct* or *iterative* solvers. This because computing the inverse of `A` is feasible only for very small matrices. Even if `A` is sparse (tridiagonal here), its inverse is generally full."
   ]
  },
  {
   "cell_type": "markdown",
   "metadata": {},
   "source": [
    "The matrix A is saved in RAM (and not to disk) in a sparse format.\n",
    "Several format are used. All the linear algebra part is very often managed though specialised library. This becomes very important when one want an efficient parallel implementation. The reference library for linear algebra in HPC is nowadays [PETSc](http://www.mcs.anl.gov/petsc/). "
   ]
  },
  {
   "cell_type": "markdown",
   "metadata": {},
   "source": [
    "We will solve below the linear system by the default *direct* linear solve, and put the solution vector in the coefficient of the function $u$. More details on the solvers will be given in dedicated notebook."
   ]
  },
  {
   "cell_type": "code",
   "execution_count": 1,
   "metadata": {},
   "outputs": [
    {
     "ename": "NameError",
     "evalue": "name 'fe' is not defined",
     "output_type": "error",
     "traceback": [
      "\u001b[0;31m---------------------------------------------------------------------------\u001b[0m",
      "\u001b[0;31mNameError\u001b[0m                                 Traceback (most recent call last)",
      "\u001b[0;32m<ipython-input-1-5b7b78e159a1>\u001b[0m in \u001b[0;36m<module>\u001b[0;34m()\u001b[0m\n\u001b[0;32m----> 1\u001b[0;31m \u001b[0msolver\u001b[0m \u001b[0;34m=\u001b[0m \u001b[0mfe\u001b[0m\u001b[0;34m.\u001b[0m\u001b[0mLUSolver\u001b[0m\u001b[0;34m(\u001b[0m\u001b[0mfe\u001b[0m\u001b[0;34m.\u001b[0m\u001b[0mMPI\u001b[0m\u001b[0;34m.\u001b[0m\u001b[0mcomm_world\u001b[0m\u001b[0;34m,\u001b[0m\u001b[0mA\u001b[0m\u001b[0;34m,\u001b[0m\u001b[0;34m'mumps'\u001b[0m\u001b[0;34m)\u001b[0m\u001b[0;34m\u001b[0m\u001b[0m\n\u001b[0m\u001b[1;32m      2\u001b[0m \u001b[0msolver\u001b[0m\u001b[0;34m.\u001b[0m\u001b[0mparameters\u001b[0m\u001b[0;34m.\u001b[0m\u001b[0mupdate\u001b[0m\u001b[0;34m(\u001b[0m\u001b[0;34m{\u001b[0m\u001b[0;34m'report'\u001b[0m\u001b[0;34m:\u001b[0m\u001b[0;32mTrue\u001b[0m\u001b[0;34m,\u001b[0m \u001b[0;34m'symmetric'\u001b[0m\u001b[0;34m:\u001b[0m \u001b[0;32mTrue\u001b[0m\u001b[0;34m,\u001b[0m \u001b[0;34m'verbose'\u001b[0m\u001b[0;34m:\u001b[0m \u001b[0;32mTrue\u001b[0m\u001b[0;34m}\u001b[0m\u001b[0;34m)\u001b[0m\u001b[0;34m\u001b[0m\u001b[0m\n\u001b[1;32m      3\u001b[0m \u001b[0msolver\u001b[0m\u001b[0;34m.\u001b[0m\u001b[0msolve\u001b[0m\u001b[0;34m(\u001b[0m\u001b[0mu\u001b[0m\u001b[0;34m.\u001b[0m\u001b[0mvector\u001b[0m\u001b[0;34m(\u001b[0m\u001b[0;34m)\u001b[0m\u001b[0;34m,\u001b[0m\u001b[0mb\u001b[0m\u001b[0;34m)\u001b[0m\u001b[0;34m\u001b[0m\u001b[0m\n",
      "\u001b[0;31mNameError\u001b[0m: name 'fe' is not defined"
     ]
    }
   ],
   "source": [
    "solver = fe.LUSolver(fe.MPI.comm_world,A,'mumps')\n",
    "solver.parameters.update({'report':True, 'symmetric': True, 'verbose': True})\n",
    "solver.solve(u.vector(),b)"
   ]
  },
  {
   "cell_type": "markdown",
   "metadata": {},
   "source": [
    "## Post-processing"
   ]
  },
  {
   "cell_type": "markdown",
   "metadata": {},
   "source": [
    "We can easily plot the result for the displacement"
   ]
  },
  {
   "cell_type": "code",
   "execution_count": 27,
   "metadata": {},
   "outputs": [
    {
     "data": {
      "text/plain": [
       "(0, 2)"
      ]
     },
     "execution_count": 27,
     "metadata": {},
     "output_type": "execute_result"
    },
    {
     "data": {
      "image/png": "[encoded data removed]",
      "text/plain": [
       "<Figure size 432x288 with 1 Axes>"
      ]
     },
     "metadata": {},
     "output_type": "display_data"
    }
   ],
   "source": [
    "fe.plot(u, marker= \"*\")\n",
    "plt.ylim([0,2])"
   ]
  },
  {
   "cell_type": "markdown",
   "metadata": {},
   "source": [
    "## Refactoring as a function "
   ]
  },
  {
   "cell_type": "markdown",
   "metadata": {},
   "source": [
    "For parametric analysis, it may be useful to refactor the code as a function returning the finite element solution"
   ]
  },
  {
   "cell_type": "code",
   "execution_count": 28,
   "metadata": {},
   "outputs": [],
   "source": [
    "%matplotlib inline\n",
    "import fenics as fe\n",
    "import numpy as np\n",
    "import matplotlib.pyplot as plt\n",
    "\n",
    "def bar_solver(Pv,n,p):\n",
    "    mesh = fe.UnitIntervalMesh(n)\n",
    "    V = fe.FunctionSpace(mesh,\"P\",p)\n",
    "    u_ = fe.TrialFunction(V)\n",
    "    v = fe.TestFunction(V)\n",
    "    u = fe.Function(V)\n",
    "    ES = fe.Expression('k', k=1., degree=2)\n",
    "    f = fe.Expression('sin(x[0])', degree=2)\n",
    "    P = fe.Expression(\"P\",P=Pv,degree=0)\n",
    "    a = (u_.dx(0)*v.dx(0))*fe.dx\n",
    "    l = f*v*fe.dx+P*v*fe.ds\n",
    "    bc = fe.DirichletBC(V,0.,\"x[0]==0\")\n",
    "    A,b = fe.assemble_system(a,l,bc)\n",
    "    fe.solve(A,u.vector(),b)\n",
    "    return u\n",
    "\n",
    "myfile = fe.XDMFFile(\"output.xdmf\")\n",
    "myfile.write(u)"
   ]
  },
  {
   "cell_type": "code",
   "execution_count": 29,
   "metadata": {},
   "outputs": [
    {
     "data": {
      "text/plain": [
       "<matplotlib.legend.Legend at 0x11a1ed160>"
      ]
     },
     "execution_count": 29,
     "metadata": {},
     "output_type": "execute_result"
    },
    {
     "data": {
      "image/png": "[encoded data removed]",
      "text/plain": [
       "<Figure size 432x288 with 1 Axes>"
      ]
     },
     "metadata": {},
     "output_type": "display_data"
    }
   ],
   "source": [
    "for P in np.linspace(0,1,9):\n",
    "    u = bar_solver(P,10,1)\n",
    "    fe.plot(u,marker=\"*\",label=P)\n",
    "    plt.ylim([-2,2])\n",
    "plt.xlabel(\"x\")\n",
    "plt.ylabel(\"u\")\n",
    "plt.legend()"
   ]
  },
  {
   "cell_type": "code",
   "execution_count": 30,
   "metadata": {},
   "outputs": [
    {
     "data": {
      "text/plain": [
       "<matplotlib.legend.Legend at 0x11cbeac88>"
      ]
     },
     "execution_count": 30,
     "metadata": {},
     "output_type": "execute_result"
    },
    {
     "data": {
      "image/png": "[encoded data removed]",
      "text/plain": [
       "<Figure size 432x288 with 1 Axes>"
      ]
     },
     "metadata": {},
     "output_type": "display_data"
    }
   ],
   "source": [
    "for n in [1,2,5,10]:\n",
    "    u = bar_solver(0,n,1)\n",
    "    fe.plot(u,marker=\"*\",label=n)\n",
    "    plt.ylim([0,.5])\n",
    "plt.xlabel(\"x\")\n",
    "plt.ylabel(\"u\")\n",
    "plt.legend()"
   ]
  },
  {
   "cell_type": "code",
   "execution_count": null,
   "metadata": {},
   "outputs": [],
   "source": []
  }
 ],
 "metadata": {
  "kernelspec": {
   "display_name": "Python 3",
   "language": "python",
   "name": "python3"
  },
  "language_info": {
   "codemirror_mode": {
    "name": "ipython",
    "version": 3
   },
   "file_extension": ".py",
   "mimetype": "text/x-python",
   "name": "python",
   "nbconvert_exporter": "python",
   "pygments_lexer": "ipython3",
   "version": "3.7.0"
  }
 },
 "nbformat": 4,
 "nbformat_minor": 2
}
