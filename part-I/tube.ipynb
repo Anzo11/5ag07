{
 "cells": [
  {
   "cell_type": "markdown",
   "metadata": {},
   "source": [
    "# Convergence analysis of finite element solutions"
   ]
  },
  {
   "cell_type": "markdown",
   "metadata": {},
   "source": [
    "This notebook draws heavily from the article [Axisymmetric formulation for elastic structures of revolution](https://comet-fenics.readthedocs.io/en/latest/demo/elasticity/axisymmetric_elasticity.html#Axisymmetric-formulation-for-elastic-structures-of-revolution) by J. Bleyer."
   ]
  },
  {
   "cell_type": "code",
   "execution_count": null,
   "metadata": {},
   "outputs": [],
   "source": [
    "import matplotlib.pyplot as plt\n",
    "import numpy as np\n",
    "\n",
    "import mshr\n",
    "import dolfin"
   ]
  },
  {
   "cell_type": "code",
   "execution_count": null,
   "metadata": {},
   "outputs": [],
   "source": [
    "%matplotlib inline"
   ]
  },
  {
   "cell_type": "markdown",
   "metadata": {},
   "source": [
    "## Parameters of the simulation"
   ]
  },
  {
   "cell_type": "markdown",
   "metadata": {},
   "source": [
    "The cylinder is defined by its mean radius, $R$, and its thickness $h$. In cylindrical coordinates $(r, \\theta, z)$, the domain is therefore defined by $R-h/2\\leq r\\leq R+h/2$."
   ]
  },
  {
   "cell_type": "code",
   "execution_count": null,
   "metadata": {},
   "outputs": [],
   "source": [
    "radius = 1.\n",
    "thickness = radius/20.0"
   ]
  },
  {
   "cell_type": "markdown",
   "metadata": {},
   "source": [
    "Change the following parameter if you wish to refine the mesh."
   ]
  },
  {
   "cell_type": "markdown",
   "metadata": {},
   "source": [
    "**@Corrado: please explain the `resolution` parameter in the `mshr.generate_mesh` function.**"
   ]
  },
  {
   "cell_type": "code",
   "execution_count": null,
   "metadata": {},
   "outputs": [],
   "source": [
    "element_size = thickness/3\n",
    "resolution = 100 # What's this?????"
   ]
  },
  {
   "cell_type": "markdown",
   "metadata": {},
   "source": [
    "## Mesh generation"
   ]
  },
  {
   "cell_type": "markdown",
   "metadata": {},
   "source": [
    "The `mshr` module uses the [Constructive Geometry](https://en.wikipedia.org/wiki/Constructive_solid_geometry) paradigm. The whole cross-section of the cylinder is therefore defined as the difference of the disk with radius $(r+h/2)$ and the disk with radius $(r+h/2)$.\n",
    "\n",
    "Owing to symmetries, it is sufficient to model the upper-right quarter of the cross-section. We therefore subtract the top-left quadrant, and the rectangle made of the two lower quadrants."
   ]
  },
  {
   "cell_type": "code",
   "execution_count": null,
   "metadata": {},
   "outputs": [],
   "source": [
    "r_out = radius+0.5*thickness\n",
    "r_in = radius-0.5*thickness\n",
    "\n",
    "p0 = dolfin.Point(0., 0.)\n",
    "p1 = dolfin.Point(-r_out, r_out)\n",
    "p2 = dolfin.Point(-r_out, -r_out)\n",
    "p3 = dolfin.Point(r_out, 0)\n",
    "\n",
    "n = int(2*np.pi*r_out/element_size)\n",
    "\n",
    "domain = (mshr.Circle(p0, r_out, n) -\n",
    "          mshr.Circle(p0, r_in, n) -\n",
    "          mshr.Rectangle(p0, p1) -\n",
    "          mshr.Rectangle(p2, p3))\n",
    "mesh = mshr.generate_mesh(domain, resolution)"
   ]
  },
  {
   "cell_type": "code",
   "execution_count": null,
   "metadata": {},
   "outputs": [],
   "source": [
    "dolfin.plot(mesh);"
   ]
  },
  {
   "cell_type": "markdown",
   "metadata": {},
   "source": [
    "## Boundary indicators"
   ]
  },
  {
   "cell_type": "code",
   "execution_count": null,
   "metadata": {},
   "outputs": [],
   "source": [
    "tol = 1E-14\n",
    "\n",
    "inner = dolfin.CompiledSubDomain('hypot(x[0], x[1]) <= r_in+tol', tol=tol, r_in=radius-0.5*thickness)\n",
    "outer = dolfin.CompiledSubDomain('hypot(x[0], x[1]) >= r_out+tol', tol=tol, r_out=radius+0.5*thickness)"
   ]
  },
  {
   "cell_type": "code",
   "execution_count": null,
   "metadata": {},
   "outputs": [],
   "source": [
    "class MySubDomain(dolfin.SubDomain):\n",
    "    def __init__(self, tol=1E-14):\n",
    "        self.tol = tol\n",
    "        \n",
    "class Inner(MySubDomain):\n",
    "    def inside(self, x, on_boundary):\n",
    "        return on_boundary and dolfin.near(np.hypot(x[0], x[1]), r_in, self.tol)\n",
    "    \n",
    "class Outer(MySubDomain):\n",
    "    def inside(self, x, on_boundary):\n",
    "        return on_boundary and dolfin.near(np.hypot(x[0], x[1]), r_out, self.tol)\n",
    "\n",
    "class Left(MySubDomain):\n",
    "    def inside(self, x, on_boundary):\n",
    "        return on_boundary and dolfin.near(x[0], 0., self.tol)\n",
    "\n",
    "class Bottom(MySubDomain):\n",
    "    def inside(self, x, on_boundary):\n",
    "        return on_boundary and dolfin.near(x[1], 0., self.tol)"
   ]
  },
  {
   "cell_type": "code",
   "execution_count": null,
   "metadata": {},
   "outputs": [],
   "source": [
    "facets = dolfin.MeshFunction('size_t', mesh, 1)\n",
    "facets.set_all(0)\n",
    "Bottom().mark(facets, 1)\n",
    "Outer().mark(faces, 2)\n",
    "Left().mark(facets, 3)\n",
    "Inner().mark(facets, 4)"
   ]
  },
  {
   "cell_type": "markdown",
   "metadata": {},
   "source": [
    "## Strain-displacement operator"
   ]
  },
  {
   "cell_type": "code",
   "execution_count": null,
   "metadata": {},
   "outputs": [],
   "source": [
    "x = dolfin.SpatialCoordinate(mesh)"
   ]
  },
  {
   "cell_type": "code",
   "execution_count": null,
   "metadata": {},
   "outputs": [],
   "source": [
    "def eps(u):\n",
    "    ε_rr = u[0].dx(0)\n",
    "    ε_θθ = (u[1].dx(1)+u[0])/x[0]\n",
    "    ε_θz = u[2].dx(1)/2./x[0]\n",
    "    ε_zr = u[2].dx(0)/2.\n",
    "    ε_rθ = (u[1].dx(0)+(-u[1]+u[0].dx(1))/x[0])/2.\n",
    "    return dolfin.as_tensor([[ε_rr, ε_rθ, ε_zr],\n",
    "                             [ε_rθ, ε_θθ, ε_θz],\n",
    "                             [ε_zr, ε_θz, 0]])"
   ]
  },
  {
   "cell_type": "code",
   "execution_count": null,
   "metadata": {},
   "outputs": [],
   "source": [
    "## Stress-strain operator"
   ]
  },
  {
   "cell_type": "code",
   "execution_count": null,
   "metadata": {},
   "outputs": [],
   "source": [
    "E, nu = dolfin.Constant(1.), dolfin.Constant(0.3)\n",
    "mu = E/2./(1.+nu)\n",
    "lmbda = 2.*mu*nu/(1.-2.*nu)"
   ]
  },
  {
   "cell_type": "code",
   "execution_count": null,
   "metadata": {},
   "outputs": [],
   "source": [
    "I2 = dolfin.Identity(3)"
   ]
  },
  {
   "cell_type": "code",
   "execution_count": null,
   "metadata": {},
   "outputs": [],
   "source": [
    "def sig(epsilon):\n",
    "    return  2.*mu*epsilon+lmbda*dolfin.tr(epsilon)*I2"
   ]
  },
  {
   "cell_type": "markdown",
   "metadata": {},
   "source": [
    "## Variational formulation"
   ]
  },
  {
   "cell_type": "code",
   "execution_count": null,
   "metadata": {},
   "outputs": [],
   "source": [
    "p_out = dolfin.Constant(0.)\n",
    "p_in = dolfin.Constant(1.)"
   ]
  },
  {
   "cell_type": "code",
   "execution_count": null,
   "metadata": {},
   "outputs": [],
   "source": [
    "element = dolfin.VectorElement('P', dolfin.triangle, degree=1, dim=3)\n",
    "V = dolfin.FunctionSpace(mesh, element)\n",
    "u = dolfin.TrialFunction(V)\n",
    "v = dolfin.TestFunction(V)"
   ]
  },
  {
   "cell_type": "code",
   "execution_count": null,
   "metadata": {},
   "outputs": [],
   "source": [
    "ds = dolfin.Measure(\"ds\", subdomain_data=facets)\n",
    "\n",
    "a = dolfin.inner(sig(eps(u)), eps(v))*dolfin.dx \n",
    "L = p_in*v[0]*ds(4)-p_out*v[0]*d(2)"
   ]
  },
  {
   "cell_type": "code",
   "execution_count": null,
   "metadata": {},
   "outputs": [],
   "source": []
  }
 ],
 "metadata": {
  "kernelspec": {
   "display_name": "Python 3",
   "language": "python",
   "name": "python3"
  },
  "language_info": {
   "codemirror_mode": {
    "name": "ipython",
    "version": 3
   },
   "file_extension": ".py",
   "mimetype": "text/x-python",
   "name": "python",
   "nbconvert_exporter": "python",
   "pygments_lexer": "ipython3",
   "version": "3.6.6"
  }
 },
 "nbformat": 4,
 "nbformat_minor": 2
}
