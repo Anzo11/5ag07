{
 "cells": [
  {
   "cell_type": "markdown",
   "metadata": {},
   "source": [
    "# Linear elasticity"
   ]
  },
  {
   "cell_type": "markdown",
   "metadata": {},
   "source": [
    "## Review of the formulation"
   ]
  },
  {
   "cell_type": "markdown",
   "metadata": {},
   "source": [
    "Linear elastic bodies are caracterized by a quadratic strain energy density function \n",
    "\n",
    "$$w(\\varepsilon)=\\frac{1}{2} \\mathbb{C} \\,(\\varepsilon-\\varepsilon_0)\\cdot (\\varepsilon-\\varepsilon_0)$$\n",
    "where\n",
    "\n",
    "-  $\\varepsilon$ is the second order (symmetric) strain tensor\n",
    "- $\\varepsilon_0$ is the inelastic strain (e.g. for thermal strain in isotropic materials $\\varepsilon_0=-\\alpha \\Delta T$\n",
    "- $\\mathbb{C}$ is the forth order elastic tensor.\n",
    "\n",
    "The (symmetric) stress tensor is defined as \n",
    "$$\n",
    "\\sigma(\\varepsilon) = \\dfrac{\\partial w(\\varepsilon)}{\\partial \\varepsilon}\n",
    "$$\n",
    "For isotropic materials denoting by $\\lambda$ and $\\mu$ are the Lamé moduli.\n",
    "\n",
    "$$\n",
    "w(\\varepsilon) = \\frac{\\lambda}{2} (\\mathrm{tr}(\\varepsilon-\\varepsilon_0))^2+\\mu \\Vert\\varepsilon-\\varepsilon_0\\Vert^2, \n",
    "\\qquad \n",
    "\\sigma(\\varepsilon)={\\lambda}\\,\\mathrm{tr}(\\varepsilon-\\varepsilon_0)+2\\mu (\\varepsilon-\\varepsilon_0)\n",
    "$$\n",
    "\n",
    "The strain is given in therm of the displacement by $$ \\varepsilon(u)=\\mathrm{sym}(\\nabla u)=\\dfrac{\\nabla u+\\nabla u^T}{2}$$\n",
    "Note that here $u,v$ are vector fields in $\\mathcal R^2$ or $\\mathcal R^3$."
   ]
  },
  {
   "cell_type": "markdown",
   "metadata": {},
   "source": [
    "Considering a body $\\Omega$ submitted to body forces $b$ surface, traction $f$ on $\\partial_f \\Omega$, applied displacements $\\bar u$ on $\\partial_u\\Omega$, and inelastic strain $\\varepsilon_0$, the  weak formulation is: \n",
    "\n",
    "Find a *trial function* $u\\in V$, $u=\\bar u$ on $\\partial_u\\Omega$, such that for each *test function* in $v\\in V$, $v=0$ on $\\partial_u\\Omega$: \n",
    "\n",
    "$$\n",
    "a(u,v) = l(v)\n",
    "$$\n",
    "where \n",
    "$$a(u,v)=\\int_\\Omega \\sigma(\\varepsilon(u))\\cdot \\varepsilon(v)\\,\\mathrm{d}x, \\quad \\ell(v)=\\int_\\Omega b\\cdot v\\, \\mathrm{d}x+\\int_{\\partial_f \\Omega} f\\cdot v$$"
   ]
  },
  {
   "cell_type": "markdown",
   "metadata": {},
   "source": [
    "**Exercices:**\n",
    "\n",
    "1. Show that the weak formulation above coincides with the stationarity condition of the following minimization problem for the potential energy $\\mathcal E(u)$\n",
    "$$\n",
    "\\min_{u\\in V, \\, u=\\bar u \\text{ on } \\partial_u\\Omega}\\mathcal E(u),\\qquad \\mathcal E(u)=\\dfrac{1}{2}a(u,u) - l(v)\n",
    "$$\n",
    "2. Show that the weak formulation above is equivalent to the classical equation of linear elasticity in the strong form with the associated Dirichlet et Neumann boundary conditions\n",
    "3. Show by dimensional analysis that, without loss of generality, one can set, up to a rescaling of the variables, $L:=\\vert\\Omega\\vert=1$ and $\\lambda=1$ when performing numerical computations"
   ]
  },
  {
   "cell_type": "markdown",
   "metadata": {},
   "source": [
    "## Finite element solution (with FEniCS)"
   ]
  },
  {
   "cell_type": "markdown",
   "metadata": {},
   "source": [
    "We will solve now the classical problem of the traction of plate with a hole (in plane-strain)"
   ]
  },
  {
   "cell_type": "markdown",
   "metadata": {},
   "source": [
    "From now on I will import fenics in the main namespace"
   ]
  },
  {
   "cell_type": "code",
   "execution_count": 1,
   "metadata": {},
   "outputs": [],
   "source": [
    "from fenics import *\n",
    "import numpy as np\n",
    "import mshr\n",
    "import matplotlib.pyplot as plt\n",
    "%matplotlib inline"
   ]
  },
  {
   "cell_type": "markdown",
   "metadata": {},
   "source": [
    "I use [mshr](https://bitbucket.org/fenics-project/mshr) to make a mesh with a hole using. A good alternative is [gmsh](http://gmsh.info): you can do your mesh, save to file, convert to fenics format using [meshio](https://github.com/nschloe/meshio) and load in fenics from file."
   ]
  },
  {
   "cell_type": "markdown",
   "metadata": {},
   "source": [
    "### Mesh "
   ]
  },
  {
   "cell_type": "code",
   "execution_count": 2,
   "metadata": {},
   "outputs": [
    {
     "data": {
      "text/plain": [
       "[<matplotlib.lines.Line2D at 0x113641940>,\n",
       " <matplotlib.lines.Line2D at 0x113641eb8>]"
      ]
     },
     "execution_count": 2,
     "metadata": {},
     "output_type": "execute_result"
    },
    {
     "data": {
      "image/png": "[encoded data removed]",
      "text/plain": [
       "<Figure size 432x288 with 1 Axes>"
      ]
     },
     "metadata": {},
     "output_type": "display_data"
    }
   ],
   "source": [
    "xmin, xmax = -5., 5.\n",
    "ymin, ymax = -2., 2.\n",
    "radius = 0.5\n",
    "square = mshr.Rectangle(Point(xmin, ymin),Point(xmax, ymax))\n",
    "hole = mshr.Circle(Point(0.,0.),radius)\n",
    "geom = square - hole\n",
    "mesh = mshr.generate_mesh(geom,150)\n",
    "plot(mesh)"
   ]
  },
  {
   "cell_type": "markdown",
   "metadata": {},
   "source": [
    "### Boundary indicators (for bcs)"
   ]
  },
  {
   "cell_type": "code",
   "execution_count": 3,
   "metadata": {},
   "outputs": [],
   "source": [
    "class Left(SubDomain):\n",
    "    def inside(self, x, on_boundary):\n",
    "        tol = 1E-14\n",
    "        return near(x[0], xmin, tol) and on_boundary\n",
    "    \n",
    "class Right(SubDomain):\n",
    "    def inside(self, x, on_boundary):\n",
    "        tol = 1E-14\n",
    "        return near(x[0], xmax, tol) and on_boundary\n",
    "    \n",
    "class Bottom(SubDomain):\n",
    "    def inside(self, x, on_boundary):\n",
    "        tol = 1E-14\n",
    "        return near(x[1], ymin, tol) and on_boundary\n",
    "    \n",
    "class Top(SubDomain):\n",
    "    def inside(self, x, on_boundary):\n",
    "        tol = 1E-14\n",
    "        return near(x[1], ymin, tol) and on_boundary\n",
    "    \n",
    "left = Left()\n",
    "right = Right()\n",
    "bottom = Bottom()\n",
    "top = Top()\n"
   ]
  },
  {
   "cell_type": "markdown",
   "metadata": {},
   "source": [
    "### Function space"
   ]
  },
  {
   "cell_type": "code",
   "execution_count": 4,
   "metadata": {},
   "outputs": [],
   "source": [
    "element = VectorElement(\"P\", triangle, degree = 1)\n",
    "# Create function space\n",
    "V = FunctionSpace(mesh, element)\n",
    "# Create test and trial functions, and source term\n",
    "u = TrialFunction(V)\n",
    "v = TestFunction(V)"
   ]
  },
  {
   "cell_type": "markdown",
   "metadata": {},
   "source": [
    "### BCs "
   ]
  },
  {
   "cell_type": "code",
   "execution_count": 5,
   "metadata": {},
   "outputs": [],
   "source": [
    "bc_left = DirichletBC(V, (0.,0.), left)\n",
    "bc_right = DirichletBC(V.sub(0), 1., right)\n",
    "bcs = [bc_left,bc_right]"
   ]
  },
  {
   "cell_type": "markdown",
   "metadata": {},
   "source": [
    "###  Variational formulation"
   ]
  },
  {
   "cell_type": "code",
   "execution_count": 6,
   "metadata": {},
   "outputs": [
    {
     "name": "stdout",
     "output_type": "stream",
     "text": [
      "Calling FFC just-in-time (JIT) compiler, this may take some time.\n"
     ]
    },
    {
     "name": "stderr",
     "output_type": "stream",
     "text": [
      "/Users/maurini/.fenics/fenics-2018.1/lib/python3.7/site-packages/ffc/uflacs/analysis/dependencies.py:61: FutureWarning: Using a non-tuple sequence for multidimensional indexing is deprecated; use `arr[tuple(seq)]` instead of `arr[seq]`. In the future this will be interpreted as an array index, `arr[np.array(seq)]`, which will result either in an error or a different result.\n",
      "  active[targets] = 1\n"
     ]
    },
    {
     "name": "stdout",
     "output_type": "stream",
     "text": [
      "Calling FFC just-in-time (JIT) compiler, this may take some time.\n"
     ]
    },
    {
     "name": "stderr",
     "output_type": "stream",
     "text": [
      "/Users/maurini/.fenics/fenics-2018.1/lib/python3.7/site-packages/ffc/uflacs/analysis/dependencies.py:61: FutureWarning: Using a non-tuple sequence for multidimensional indexing is deprecated; use `arr[tuple(seq)]` instead of `arr[seq]`. In the future this will be interpreted as an array index, `arr[np.array(seq)]`, which will result either in an error or a different result.\n",
      "  active[targets] = 1\n"
     ]
    },
    {
     "name": "stdout",
     "output_type": "stream",
     "text": [
      "Calling FFC just-in-time (JIT) compiler, this may take some time.\n"
     ]
    },
    {
     "name": "stderr",
     "output_type": "stream",
     "text": [
      "/Users/maurini/.fenics/fenics-2018.1/lib/python3.7/site-packages/ffc/uflacs/analysis/dependencies.py:61: FutureWarning: Using a non-tuple sequence for multidimensional indexing is deprecated; use `arr[tuple(seq)]` instead of `arr[seq]`. In the future this will be interpreted as an array index, `arr[np.array(seq)]`, which will result either in an error or a different result.\n",
      "  active[targets] = 1\n"
     ]
    },
    {
     "data": {
      "text/plain": [
       "<matplotlib.collections.PolyCollection at 0x117b018d0>"
      ]
     },
     "execution_count": 6,
     "metadata": {},
     "output_type": "execute_result"
    },
    {
     "data": {
      "image/png": "[encoded data removed]",
      "text/plain": [
       "<Figure size 432x288 with 1 Axes>"
      ]
     },
     "metadata": {},
     "output_type": "display_data"
    }
   ],
   "source": [
    "# Bulk load \n",
    "b = Constant((0.,0.))\n",
    "# Elasticity parameters\n",
    "E, nu = Constant(10), Constant(0.3)\n",
    "mu, lmbda = E/(2*(1.0 + nu)), E*nu/((1.0 + nu)*(1.0 -2.0*nu))\n",
    "\n",
    "ndim = u.geometric_dimension()\n",
    "\n",
    "def eps(u):\n",
    "    return sym(grad(u))\n",
    "\n",
    "def sigma(epsilon):\n",
    "    return  2*mu*epsilon + lmbda*tr(epsilon)*Identity(ndim)\n",
    "\n",
    "# Weak formulation\n",
    "a = inner(sigma(eps(u)), eps(v))*dx \n",
    "L = inner(b,v)*dx\n",
    "\n",
    "# Set up PDE and solve\n",
    "us = Function(V)\n",
    "problem = LinearVariationalProblem(a, L, us, bcs)\n",
    "solver = LinearVariationalSolver(problem)\n",
    "solver.solve()\n",
    "plot(5*us, mode = \"displacement\")"
   ]
  },
  {
   "cell_type": "markdown",
   "metadata": {},
   "source": [
    "### Postprocessing: stress calculation"
   ]
  },
  {
   "cell_type": "markdown",
   "metadata": {},
   "source": [
    "Define Von Mises Stress"
   ]
  },
  {
   "cell_type": "code",
   "execution_count": 7,
   "metadata": {},
   "outputs": [],
   "source": [
    "sigma_sol = sigma(eps(us))\n",
    "s = sigma_sol - (1./ndim)*tr(sigma_sol)*Identity(ndim)"
   ]
  },
  {
   "cell_type": "markdown",
   "metadata": {},
   "source": [
    "Project it on a FE function space"
   ]
  },
  {
   "cell_type": "code",
   "execution_count": 8,
   "metadata": {},
   "outputs": [
    {
     "name": "stdout",
     "output_type": "stream",
     "text": [
      "Calling FFC just-in-time (JIT) compiler, this may take some time.\n",
      "Calling FFC just-in-time (JIT) compiler, this may take some time.\n",
      "Calling FFC just-in-time (JIT) compiler, this may take some time.\n"
     ]
    },
    {
     "name": "stderr",
     "output_type": "stream",
     "text": [
      "/Users/maurini/.fenics/fenics-2018.1/lib/python3.7/site-packages/ffc/uflacs/analysis/dependencies.py:61: FutureWarning: Using a non-tuple sequence for multidimensional indexing is deprecated; use `arr[tuple(seq)]` instead of `arr[seq]`. In the future this will be interpreted as an array index, `arr[np.array(seq)]`, which will result either in an error or a different result.\n",
      "  active[targets] = 1\n"
     ]
    },
    {
     "name": "stdout",
     "output_type": "stream",
     "text": [
      "Calling FFC just-in-time (JIT) compiler, this may take some time.\n"
     ]
    },
    {
     "name": "stderr",
     "output_type": "stream",
     "text": [
      "/Users/maurini/.fenics/fenics-2018.1/lib/python3.7/site-packages/ffc/uflacs/analysis/dependencies.py:61: FutureWarning: Using a non-tuple sequence for multidimensional indexing is deprecated; use `arr[tuple(seq)]` instead of `arr[seq]`. In the future this will be interpreted as an array index, `arr[np.array(seq)]`, which will result either in an error or a different result.\n",
      "  active[targets] = 1\n"
     ]
    },
    {
     "data": {
      "text/plain": [
       "<matplotlib.collections.PolyCollection at 0x1197f9588>"
      ]
     },
     "execution_count": 8,
     "metadata": {},
     "output_type": "execute_result"
    },
    {
     "data": {
      "image/png": "[encoded data removed]",
      "text/plain": [
       "<Figure size 432x288 with 1 Axes>"
      ]
     },
     "metadata": {},
     "output_type": "display_data"
    }
   ],
   "source": [
    "stress_element = FiniteElement('DG', triangle, 0)\n",
    "S = FunctionSpace(mesh, stress_element)\n",
    "von_Mises = sqrt(ndim*inner(s, s))\n",
    "von_Mises_p = project(von_Mises, S)\n",
    "plot(von_Mises_p)"
   ]
  },
  {
   "cell_type": "code",
   "execution_count": 9,
   "metadata": {},
   "outputs": [
    {
     "data": {
      "text/plain": [
       "Text(0.5,0,'Von Mises stress')"
      ]
     },
     "execution_count": 9,
     "metadata": {},
     "output_type": "execute_result"
    },
    {
     "data": {
      "image/png": "[encoded data removed]",
      "text/plain": [
       "<Figure size 432x288 with 1 Axes>"
      ]
     },
     "metadata": {},
     "output_type": "display_data"
    }
   ],
   "source": [
    "ypoints = np.linspace(radius, ymax, 20)\n",
    "points = [[.0,y] for y in ypoints]\n",
    "values = [von_Mises_p(point) for point in points]\n",
    "plt.plot(values, ypoints, '*r')\n",
    "plt.ylabel(\"y\")\n",
    "plt.xlabel(\"Von Mises stress\")"
   ]
  },
  {
   "cell_type": "code",
   "execution_count": 10,
   "metadata": {},
   "outputs": [
    {
     "ename": "NameError",
     "evalue": "name 'elastic_solver' is not defined",
     "output_type": "error",
     "traceback": [
      "\u001b[0;31m---------------------------------------------------------------------------\u001b[0m",
      "\u001b[0;31mNameError\u001b[0m                                 Traceback (most recent call last)",
      "\u001b[0;32m<ipython-input-10-459109dac450>\u001b[0m in \u001b[0;36m<module>\u001b[0;34m()\u001b[0m\n\u001b[0;32m----> 1\u001b[0;31m \u001b[0muref\u001b[0m\u001b[0;34m,\u001b[0m \u001b[0msref\u001b[0m \u001b[0;34m=\u001b[0m \u001b[0melastic_solver\u001b[0m\u001b[0;34m(\u001b[0m\u001b[0;36m250\u001b[0m\u001b[0;34m,\u001b[0m\u001b[0;36m1\u001b[0m\u001b[0;34m)\u001b[0m\u001b[0;34m\u001b[0m\u001b[0m\n\u001b[0m\u001b[1;32m      2\u001b[0m \u001b[0mplot\u001b[0m\u001b[0;34m(\u001b[0m\u001b[0muref\u001b[0m\u001b[0;34m*\u001b[0m\u001b[0;36m.01\u001b[0m\u001b[0;34m,\u001b[0m\u001b[0mmode\u001b[0m\u001b[0;34m=\u001b[0m\u001b[0;34m'displacement'\u001b[0m\u001b[0;34m)\u001b[0m\u001b[0;34m\u001b[0m\u001b[0m\n",
      "\u001b[0;31mNameError\u001b[0m: name 'elastic_solver' is not defined"
     ]
    }
   ],
   "source": [
    "uref, sref = elastic_solver(250,1)\n",
    "plot(uref*.01,mode='displacement')"
   ]
  },
  {
   "cell_type": "code",
   "execution_count": null,
   "metadata": {},
   "outputs": [],
   "source": []
  }
 ],
 "metadata": {
  "kernelspec": {
   "display_name": "Python 3",
   "language": "python",
   "name": "python3"
  },
  "language_info": {
   "codemirror_mode": {
    "name": "ipython",
    "version": 3
   },
   "file_extension": ".py",
   "mimetype": "text/x-python",
   "name": "python",
   "nbconvert_exporter": "python",
   "pygments_lexer": "ipython3",
   "version": "3.7.0"
  }
 },
 "nbformat": 4,
 "nbformat_minor": 2
}
