{
 "cells": [
  {
   "cell_type": "code",
   "execution_count": 1,
   "metadata": {},
   "outputs": [
    {
     "name": "stderr",
     "output_type": "stream",
     "text": [
      "/usr/local/lib/python3.5/dist-packages/matplotlib/__init__.py:1405: UserWarning: \n",
      "This call to matplotlib.use() has no effect because the backend has already\n",
      "been chosen; matplotlib.use() must be called *before* pylab, matplotlib.pyplot,\n",
      "or matplotlib.backends is imported for the first time.\n",
      "\n",
      "  warnings.warn(_use_error_msg)\n"
     ]
    }
   ],
   "source": []
  },
  {
   "cell_type": "code",
   "execution_count": 3,
   "metadata": {},
   "outputs": [
    {
     "name": "stdout",
     "output_type": "stream",
     "text": [
      "n = 2 num_dofs = 9\n",
      "n = 4 num_dofs = 25\n",
      "n = 8 num_dofs = 81\n",
      "n = 16 num_dofs = 289\n",
      "n = 32 num_dofs = 1089\n",
      "n = 64 num_dofs = 4225\n",
      "n = 128 num_dofs = 16641\n",
      "n = 256 num_dofs = 66049\n",
      "n = 2 num_dofs = 25\n",
      "n = 4 num_dofs = 81\n",
      "n = 8 num_dofs = 289\n",
      "n = 16 num_dofs = 1089\n",
      "n = 32 num_dofs = 4225\n",
      "n = 64 num_dofs = 16641\n",
      "n = 128 num_dofs = 66049\n",
      "n = 256 num_dofs = 263169\n",
      "Convergence:\n",
      "h1: 5.0000e-01  2.5000e-01  1.2500e-01  6.2500e-02  3.1250e-02  1.5625e-02  7.8125e-03  3.9062e-03\n",
      "h2: 5.0000e-01  2.5000e-01  1.2500e-01  6.2500e-02  3.1250e-02  1.5625e-02  7.8125e-03  3.9062e-03\n",
      "N1: 9.0000e+00  2.5000e+01  8.1000e+01  2.8900e+02  1.0890e+03  4.2250e+03  1.6641e+04  6.6049e+04\n",
      "N2: 2.5000e+01  8.1000e+01  2.8900e+02  1.0890e+03  4.2250e+03  1.6641e+04  6.6049e+04  2.6317e+05\n",
      "e1: 2.5108e-01  7.9199e-02  2.1141e-02  5.3780e-03  1.3505e-03  3.3799e-04  8.4522e-05  2.1132e-05\n",
      "e2: 3.2761e-02  4.3372e-03  5.4842e-04  6.8751e-05  8.6009e-06  1.0754e-06  1.3443e-07  1.6804e-08\n"
     ]
    },
    {
     "name": "stderr",
     "output_type": "stream",
     "text": [
      "/usr/local/lib/python3.5/dist-packages/ipykernel_launcher.py:66: MatplotlibDeprecationWarning: pyplot.hold is deprecated.\n",
      "    Future behavior will be consistent with the long-time default:\n",
      "    plot commands add elements without first clearing the\n",
      "    Axes and/or Figure.\n",
      "/usr/local/lib/python3.5/dist-packages/matplotlib/__init__.py:917: UserWarning: axes.hold is deprecated. Please remove it from your matplotlibrc and/or style files.\n",
      "  warnings.warn(self.msg_depr_set % key)\n",
      "/usr/local/lib/python3.5/dist-packages/matplotlib/rcsetup.py:152: UserWarning: axes.hold is deprecated, will be removed in 3.0\n",
      "  warnings.warn(\"axes.hold is deprecated, will be removed in 3.0\")\n"
     ]
    },
    {
     "data": {
      "image/png": "[encoded data removed]",
      "text/plain": [
       "<matplotlib.figure.Figure at 0x7ffa18cb2c88>"
      ]
     },
     "metadata": {},
     "output_type": "display_data"
    }
   ],
   "source": [
    "\n"
   ]
  },
  {
   "cell_type": "code",
   "execution_count": 4,
   "metadata": {
    "collapsed": true
   },
   "outputs": [],
   "source": [
    "zip(*)"
   ]
  },
  {
   "cell_type": "code",
   "execution_count": 5,
   "metadata": {},
   "outputs": [
    {
     "name": "stdout",
     "output_type": "stream",
     "text": [
      "n = 2 num_dofs = 9\n",
      "n = 4 num_dofs = 25\n",
      "n = 8 num_dofs = 81\n",
      "n = 16 num_dofs = 289\n",
      "n = 32 num_dofs = 1089\n",
      "n = 64 num_dofs = 4225\n",
      "n = 128 num_dofs = 16641\n",
      "n = 256 num_dofs = 66049\n"
     ]
    }
   ],
   "source": [
    "tmp = [solve_poisson(1, n) for n in [2, 4, 8, 16, 32, 64, 128, 256]]"
   ]
  },
  {
   "cell_type": "code",
   "execution_count": 8,
   "metadata": {},
   "outputs": [
    {
     "data": {
      "text/plain": [
       "[(0.5, 9, 0.2510835879366753),\n",
       " (0.25, 25, 0.0791992960715176),\n",
       " (0.125, 81, 0.021141186983455542),\n",
       " (0.0625, 289, 0.0053779724864167116),\n",
       " (0.03125, 1089, 0.0013504700283575558),\n",
       " (0.015625, 4225, 0.0003379944490490355),\n",
       " (0.0078125, 16641, 8.452223032931931e-05),\n",
       " (0.00390625, 66049, 2.113203500326675e-05)]"
      ]
     },
     "execution_count": 8,
     "metadata": {},
     "output_type": "execute_result"
    }
   ],
   "source": [
    "tmp"
   ]
  },
  {
   "cell_type": "code",
   "execution_count": 12,
   "metadata": {},
   "outputs": [],
   "source": [
    "tmp1, tmp2, tmp3 = zip(*tmp)"
   ]
  },
  {
   "cell_type": "code",
   "execution_count": 13,
   "metadata": {},
   "outputs": [
    {
     "data": {
      "text/plain": [
       "(0.5, 0.25, 0.125, 0.0625, 0.03125, 0.015625, 0.0078125, 0.00390625)"
      ]
     },
     "execution_count": 13,
     "metadata": {},
     "output_type": "execute_result"
    }
   ],
   "source": [
    "tmp1"
   ]
  },
  {
   "cell_type": "code",
   "execution_count": null,
   "metadata": {
    "collapsed": true
   },
   "outputs": [],
   "source": []
  }
 ],
 "metadata": {
  "kernelspec": {
   "display_name": "Python 3",
   "language": "python",
   "name": "python3"
  },
  "language_info": {
   "codemirror_mode": {
    "name": "ipython",
    "version": 3
   },
   "file_extension": ".py",
   "mimetype": "text/x-python",
   "name": "python",
   "nbconvert_exporter": "python",
   "pygments_lexer": "ipython3",
   "version": "3.5.2"
  }
 },
 "nbformat": 4,
 "nbformat_minor": 1
}
